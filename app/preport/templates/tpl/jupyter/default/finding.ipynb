{% load app_filters %}
{% load i18n %}

  {
   "cell_type": "markdown",
   "metadata": {},
   "source": [
    "## {{ finding.title }}\n",
    "**{% translate "Severity" %}:** {{ finding.severity }}\n\n",
    "**{% translate "Status" %}:** {{ finding.status }}\n\n",
    "**{% translate "CVSS Score" %}:** {{ finding.cvss_base_score }}\n\n",
    "**{% translate "CWE" %}:** {{ finding.cwe.cwe_id }} - {{ finding.cwe.cwe_name }}\n\n",
    "**{% translate "OWASP" %}:** {{ finding.owasp.owasp_full_id }} - {{ finding.owasp.owasp_name }}\n\n",
    {% if finding.description %}
    "**{% translate "Description" %}**\n\n",
    "{{ finding.description|jupyter_format }}\n\n",
    {% endif %}
    {% if finding.poc %}
    "**{% translate "Proof of Concept" %}**\n\n",
    "{{ finding.poc|jupyter_format }}\n\n",
    {% endif %}
    {% if finding.location %}
    "**{% translate "Location" %}**\n\n",
    "{{finding.location|jupyter_format }}\n\n",
    {% endif %}
    {% if finding.impact %}
    "**{% translate "Impact" %}**\n\n",
    "{{ finding.impact|jupyter_format }}\n\n",
    {% endif %}
    {% if finding.recommendation %}
    "**{% translate "Recommendation" %}**\n\n",
    "{{ finding.recommendation|jupyter_format }}\n\n",
    {% endif %}
    {% if finding.ref %}
    "**{% translate "References" %}**\n\n",
    "{{ finding.ref|jupyter_format }}\n\n",
    {% endif %}
    {% if finding.custom_field_finding %}
    {% for field_in_finding in finding.custom_field_finding.all %}
    "**{{field_in_finding.title}}**\n\n",
    "{{ field_in_finding.description|jupyter_format }}\n\n",
    {% endfor %}
    {% endif %}
    "**{% translate "Additional notes" %}**\n",
    "\n"
   ]
  },