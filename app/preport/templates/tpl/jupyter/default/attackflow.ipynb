
  {
   "cell_type": "markdown",
   "metadata": {},
   "source": [
    "## {{attackflow_in_finding.title}}\n\n",
    "![{{attackflow_in_finding.title}}]({{attackflow_in_finding.attackflow_png}})\n",
    "\n\n"
   ]
  },