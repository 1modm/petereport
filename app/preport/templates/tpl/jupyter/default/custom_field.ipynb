{% load app_filters %}

  {
   "cell_type": "markdown",
   "metadata": {},
   "source": [
    "## {{appendix_in_finding.title}}\n\n",
    "{{ appendix_in_finding.description|jupyter_format }}\n",
    "\n\n"
   ]
  },