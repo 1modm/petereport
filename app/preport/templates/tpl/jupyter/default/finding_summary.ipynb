  {
   "cell_type": "markdown",
   "metadata": {},
   "source": [
    "**# {{counter_finding}} {{finding.severity}} ({{finding.status}})** {{finding.title}}"
   ]
  },