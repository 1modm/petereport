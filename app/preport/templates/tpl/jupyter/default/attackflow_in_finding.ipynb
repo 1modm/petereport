
  {
   "cell_type": "markdown",
   "metadata": {},
   "source": [
    "{{ attackflow_in_finding.title }}\n\n",
    "\n"
   ]
  },